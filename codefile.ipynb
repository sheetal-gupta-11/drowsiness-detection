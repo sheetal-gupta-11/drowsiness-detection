{
 "cells": [
  {
   "cell_type": "code",
   "execution_count": 1,
   "metadata": {},
   "outputs": [
    {
     "name": "stdout",
     "output_type": "stream",
     "text": [
      "modules imported\n"
     ]
    }
   ],
   "source": [
    "import numpy as np\n",
    "import cv2 \n",
    "import tensorflow as tf\n",
    "import matplotlib.pyplot as plt\n",
    "import numpy as np\n",
    "import sys\n",
    "import os\n",
    "print('modules imported')"
   ]
  },
  {
   "cell_type": "code",
   "execution_count": 2,
   "metadata": {},
   "outputs": [],
   "source": [
    "Datadirectory=\"test_set/\"\n",
    "classes=['close_eyes','open_eyes']\n",
    "for category in classes:\n",
    "    path=os.path.join(Datadirectory,category)\n",
    "    for image in os.listdir(path):\n",
    "        img=cv2.imread(os.path.join(path,image),0)\n",
    "        backtorgb=cv2.cvtColor(img,cv2.COLOR_GRAY2BGR)\n",
    "        \n",
    "        break\n",
    "    break"
   ]
  },
  {
   "cell_type": "code",
   "execution_count": 3,
   "metadata": {},
   "outputs": [],
   "source": [
    "#reading all the images and resizing "
   ]
  },
  {
   "cell_type": "code",
   "execution_count": 4,
   "metadata": {},
   "outputs": [],
   "source": [
    "training_data=[]\n",
    "image_size=28\n",
    "\n",
    "def create_training_data():\n",
    "    for category in classes:\n",
    "        path=os.path.join(Datadirectory,category)\n",
    "        class_num=classes.index(category)\n",
    "        for image in os.listdir(path):\n",
    "            try:\n",
    "                img=cv2.imread(os.path.join(path,image),0)\n",
    "                backtorgb=cv2.cvtColor(img,cv2.COLOR_GRAY2RGB)\n",
    "                new_img=cv2.resize(backtorgb,(image_size,image_size))\n",
    "                training_data.append([new_img,class_num])\n",
    "            except Exception as e:\n",
    "                pass            "
   ]
  },
  {
   "cell_type": "code",
   "execution_count": 5,
   "metadata": {},
   "outputs": [],
   "source": [
    "create_training_data()"
   ]
  },
  {
   "cell_type": "code",
   "execution_count": 6,
   "metadata": {},
   "outputs": [
    {
     "name": "stdout",
     "output_type": "stream",
     "text": [
      "2003\n"
     ]
    }
   ],
   "source": [
    "print(len(training_data))"
   ]
  },
  {
   "cell_type": "code",
   "execution_count": 7,
   "metadata": {},
   "outputs": [],
   "source": [
    "import random\n",
    "random.shuffle(training_data)\n"
   ]
  },
  {
   "cell_type": "code",
   "execution_count": 8,
   "metadata": {},
   "outputs": [],
   "source": [
    "x=[]\n",
    "y=[]\n",
    "\n",
    "for features,labels in training_data:\n",
    "    x.append(features)\n",
    "    y.append(labels)"
   ]
  },
  {
   "cell_type": "code",
   "execution_count": 9,
   "metadata": {},
   "outputs": [],
   "source": [
    "x=np.array(x)\n",
    "y=np.array(y)"
   ]
  },
  {
   "cell_type": "code",
   "execution_count": 10,
   "metadata": {},
   "outputs": [],
   "source": [
    "from sklearn.model_selection import train_test_split"
   ]
  },
  {
   "cell_type": "code",
   "execution_count": 11,
   "metadata": {},
   "outputs": [],
   "source": [
    "x_train,x_test,y_train,y_test=train_test_split(x,y,test_size=0.5,random_state=20)"
   ]
  },
  {
   "cell_type": "code",
   "execution_count": 12,
   "metadata": {},
   "outputs": [
    {
     "data": {
      "text/plain": [
       "array([[[[ 53,  53,  53],\n",
       "         [ 51,  51,  51],\n",
       "         [ 54,  54,  54],\n",
       "         ...,\n",
       "         [ 91,  91,  91],\n",
       "         [ 91,  91,  91],\n",
       "         [ 95,  95,  95]],\n",
       "\n",
       "        [[ 50,  50,  50],\n",
       "         [ 51,  51,  51],\n",
       "         [ 51,  51,  51],\n",
       "         ...,\n",
       "         [ 96,  96,  96],\n",
       "         [ 92,  92,  92],\n",
       "         [ 93,  93,  93]],\n",
       "\n",
       "        [[ 49,  49,  49],\n",
       "         [ 53,  53,  53],\n",
       "         [ 52,  52,  52],\n",
       "         ...,\n",
       "         [ 94,  94,  94],\n",
       "         [ 97,  97,  97],\n",
       "         [ 93,  93,  93]],\n",
       "\n",
       "        ...,\n",
       "\n",
       "        [[ 65,  65,  65],\n",
       "         [ 70,  70,  70],\n",
       "         [ 71,  71,  71],\n",
       "         ...,\n",
       "         [ 75,  75,  75],\n",
       "         [ 75,  75,  75],\n",
       "         [ 75,  75,  75]],\n",
       "\n",
       "        [[ 65,  65,  65],\n",
       "         [ 69,  69,  69],\n",
       "         [ 73,  73,  73],\n",
       "         ...,\n",
       "         [ 76,  76,  76],\n",
       "         [ 73,  73,  73],\n",
       "         [ 73,  73,  73]],\n",
       "\n",
       "        [[ 66,  66,  66],\n",
       "         [ 70,  70,  70],\n",
       "         [ 74,  74,  74],\n",
       "         ...,\n",
       "         [ 72,  72,  72],\n",
       "         [ 74,  74,  74],\n",
       "         [ 73,  73,  73]]],\n",
       "\n",
       "\n",
       "       [[[ 80,  80,  80],\n",
       "         [ 78,  78,  78],\n",
       "         [ 73,  73,  73],\n",
       "         ...,\n",
       "         [107, 107, 107],\n",
       "         [104, 104, 104],\n",
       "         [106, 106, 106]],\n",
       "\n",
       "        [[ 77,  77,  77],\n",
       "         [ 81,  81,  81],\n",
       "         [ 77,  77,  77],\n",
       "         ...,\n",
       "         [104, 104, 104],\n",
       "         [105, 105, 105],\n",
       "         [104, 104, 104]],\n",
       "\n",
       "        [[ 80,  80,  80],\n",
       "         [ 81,  81,  81],\n",
       "         [ 79,  79,  79],\n",
       "         ...,\n",
       "         [ 99,  99,  99],\n",
       "         [ 98,  98,  98],\n",
       "         [ 96,  96,  96]],\n",
       "\n",
       "        ...,\n",
       "\n",
       "        [[ 63,  63,  63],\n",
       "         [ 67,  67,  67],\n",
       "         [ 67,  67,  67],\n",
       "         ...,\n",
       "         [ 98,  98,  98],\n",
       "         [ 93,  93,  93],\n",
       "         [ 94,  94,  94]],\n",
       "\n",
       "        [[ 65,  65,  65],\n",
       "         [ 63,  63,  63],\n",
       "         [ 64,  64,  64],\n",
       "         ...,\n",
       "         [ 94,  94,  94],\n",
       "         [ 94,  94,  94],\n",
       "         [ 94,  94,  94]],\n",
       "\n",
       "        [[ 64,  64,  64],\n",
       "         [ 59,  59,  59],\n",
       "         [ 64,  64,  64],\n",
       "         ...,\n",
       "         [ 92,  92,  92],\n",
       "         [ 96,  96,  96],\n",
       "         [ 95,  95,  95]]],\n",
       "\n",
       "\n",
       "       [[[ 83,  83,  83],\n",
       "         [ 83,  83,  83],\n",
       "         [ 80,  80,  80],\n",
       "         ...,\n",
       "         [ 31,  31,  31],\n",
       "         [ 31,  31,  31],\n",
       "         [ 29,  29,  29]],\n",
       "\n",
       "        [[ 85,  85,  85],\n",
       "         [ 82,  82,  82],\n",
       "         [ 80,  80,  80],\n",
       "         ...,\n",
       "         [ 30,  30,  30],\n",
       "         [ 31,  31,  31],\n",
       "         [ 31,  31,  31]],\n",
       "\n",
       "        [[ 84,  84,  84],\n",
       "         [ 84,  84,  84],\n",
       "         [ 79,  79,  79],\n",
       "         ...,\n",
       "         [ 30,  30,  30],\n",
       "         [ 30,  30,  30],\n",
       "         [ 29,  29,  29]],\n",
       "\n",
       "        ...,\n",
       "\n",
       "        [[ 56,  56,  56],\n",
       "         [ 53,  53,  53],\n",
       "         [ 52,  52,  52],\n",
       "         ...,\n",
       "         [ 54,  54,  54],\n",
       "         [ 49,  49,  49],\n",
       "         [ 45,  45,  45]],\n",
       "\n",
       "        [[ 60,  60,  60],\n",
       "         [ 53,  53,  53],\n",
       "         [ 51,  51,  51],\n",
       "         ...,\n",
       "         [ 55,  55,  55],\n",
       "         [ 50,  50,  50],\n",
       "         [ 46,  46,  46]],\n",
       "\n",
       "        [[ 62,  62,  62],\n",
       "         [ 55,  55,  55],\n",
       "         [ 51,  51,  51],\n",
       "         ...,\n",
       "         [ 57,  57,  57],\n",
       "         [ 50,  50,  50],\n",
       "         [ 48,  48,  48]]],\n",
       "\n",
       "\n",
       "       ...,\n",
       "\n",
       "\n",
       "       [[[ 54,  54,  54],\n",
       "         [ 56,  56,  56],\n",
       "         [ 59,  59,  59],\n",
       "         ...,\n",
       "         [106, 106, 106],\n",
       "         [106, 106, 106],\n",
       "         [106, 106, 106]],\n",
       "\n",
       "        [[ 52,  52,  52],\n",
       "         [ 56,  56,  56],\n",
       "         [ 59,  59,  59],\n",
       "         ...,\n",
       "         [104, 104, 104],\n",
       "         [108, 108, 108],\n",
       "         [107, 107, 107]],\n",
       "\n",
       "        [[ 53,  53,  53],\n",
       "         [ 57,  57,  57],\n",
       "         [ 55,  55,  55],\n",
       "         ...,\n",
       "         [105, 105, 105],\n",
       "         [106, 106, 106],\n",
       "         [111, 111, 111]],\n",
       "\n",
       "        ...,\n",
       "\n",
       "        [[ 77,  77,  77],\n",
       "         [ 79,  79,  79],\n",
       "         [ 79,  79,  79],\n",
       "         ...,\n",
       "         [ 82,  82,  82],\n",
       "         [ 83,  83,  83],\n",
       "         [ 85,  85,  85]],\n",
       "\n",
       "        [[ 77,  77,  77],\n",
       "         [ 78,  78,  78],\n",
       "         [ 82,  82,  82],\n",
       "         ...,\n",
       "         [ 84,  84,  84],\n",
       "         [ 85,  85,  85],\n",
       "         [ 88,  88,  88]],\n",
       "\n",
       "        [[ 78,  78,  78],\n",
       "         [ 83,  83,  83],\n",
       "         [ 85,  85,  85],\n",
       "         ...,\n",
       "         [ 84,  84,  84],\n",
       "         [ 85,  85,  85],\n",
       "         [ 83,  83,  83]]],\n",
       "\n",
       "\n",
       "       [[[ 90,  90,  90],\n",
       "         [ 89,  89,  89],\n",
       "         [ 89,  89,  89],\n",
       "         ...,\n",
       "         [ 38,  38,  38],\n",
       "         [ 33,  33,  33],\n",
       "         [ 29,  29,  29]],\n",
       "\n",
       "        [[ 90,  90,  90],\n",
       "         [ 90,  90,  90],\n",
       "         [ 91,  91,  91],\n",
       "         ...,\n",
       "         [ 36,  36,  36],\n",
       "         [ 32,  32,  32],\n",
       "         [ 28,  28,  28]],\n",
       "\n",
       "        [[ 90,  90,  90],\n",
       "         [ 89,  89,  89],\n",
       "         [ 87,  87,  87],\n",
       "         ...,\n",
       "         [ 35,  35,  35],\n",
       "         [ 32,  32,  32],\n",
       "         [ 27,  27,  27]],\n",
       "\n",
       "        ...,\n",
       "\n",
       "        [[ 60,  60,  60],\n",
       "         [ 56,  56,  56],\n",
       "         [ 56,  56,  56],\n",
       "         ...,\n",
       "         [ 54,  54,  54],\n",
       "         [ 48,  48,  48],\n",
       "         [ 42,  42,  42]],\n",
       "\n",
       "        [[ 63,  63,  63],\n",
       "         [ 55,  55,  55],\n",
       "         [ 58,  58,  58],\n",
       "         ...,\n",
       "         [ 54,  54,  54],\n",
       "         [ 50,  50,  50],\n",
       "         [ 43,  43,  43]],\n",
       "\n",
       "        [[ 62,  62,  62],\n",
       "         [ 57,  57,  57],\n",
       "         [ 56,  56,  56],\n",
       "         ...,\n",
       "         [ 52,  52,  52],\n",
       "         [ 51,  51,  51],\n",
       "         [ 45,  45,  45]]],\n",
       "\n",
       "\n",
       "       [[[103, 103, 103],\n",
       "         [102, 102, 102],\n",
       "         [102, 102, 102],\n",
       "         ...,\n",
       "         [ 58,  58,  58],\n",
       "         [ 55,  55,  55],\n",
       "         [ 50,  50,  50]],\n",
       "\n",
       "        [[104, 104, 104],\n",
       "         [101, 101, 101],\n",
       "         [102, 102, 102],\n",
       "         ...,\n",
       "         [ 58,  58,  58],\n",
       "         [ 52,  52,  52],\n",
       "         [ 51,  51,  51]],\n",
       "\n",
       "        [[104, 104, 104],\n",
       "         [102, 102, 102],\n",
       "         [103, 103, 103],\n",
       "         ...,\n",
       "         [ 54,  54,  54],\n",
       "         [ 53,  53,  53],\n",
       "         [ 49,  49,  49]],\n",
       "\n",
       "        ...,\n",
       "\n",
       "        [[ 73,  73,  73],\n",
       "         [ 76,  76,  76],\n",
       "         [ 76,  76,  76],\n",
       "         ...,\n",
       "         [ 74,  74,  74],\n",
       "         [ 73,  73,  73],\n",
       "         [ 71,  71,  71]],\n",
       "\n",
       "        [[ 71,  71,  71],\n",
       "         [ 73,  73,  73],\n",
       "         [ 74,  74,  74],\n",
       "         ...,\n",
       "         [ 76,  76,  76],\n",
       "         [ 73,  73,  73],\n",
       "         [ 69,  69,  69]],\n",
       "\n",
       "        [[ 71,  71,  71],\n",
       "         [ 70,  70,  70],\n",
       "         [ 75,  75,  75],\n",
       "         ...,\n",
       "         [ 74,  74,  74],\n",
       "         [ 73,  73,  73],\n",
       "         [ 69,  69,  69]]]], dtype=uint8)"
      ]
     },
     "execution_count": 12,
     "metadata": {},
     "output_type": "execute_result"
    }
   ],
   "source": [
    "x_train"
   ]
  },
  {
   "cell_type": "code",
   "execution_count": 13,
   "metadata": {},
   "outputs": [
    {
     "data": {
      "text/plain": [
       "array([1, 0, 1, ..., 0, 1, 0])"
      ]
     },
     "execution_count": 13,
     "metadata": {},
     "output_type": "execute_result"
    }
   ],
   "source": [
    "y_train"
   ]
  },
  {
   "cell_type": "code",
   "execution_count": 14,
   "metadata": {},
   "outputs": [
    {
     "data": {
      "text/plain": [
       "array([[[[ 86,  86,  86],\n",
       "         [ 86,  86,  86],\n",
       "         [ 84,  84,  84],\n",
       "         ...,\n",
       "         [ 48,  48,  48],\n",
       "         [ 48,  48,  48],\n",
       "         [ 43,  43,  43]],\n",
       "\n",
       "        [[ 89,  89,  89],\n",
       "         [ 87,  87,  87],\n",
       "         [ 89,  89,  89],\n",
       "         ...,\n",
       "         [ 48,  48,  48],\n",
       "         [ 49,  49,  49],\n",
       "         [ 44,  44,  44]],\n",
       "\n",
       "        [[ 91,  91,  91],\n",
       "         [ 91,  91,  91],\n",
       "         [ 90,  90,  90],\n",
       "         ...,\n",
       "         [ 49,  49,  49],\n",
       "         [ 50,  50,  50],\n",
       "         [ 44,  44,  44]],\n",
       "\n",
       "        ...,\n",
       "\n",
       "        [[ 68,  68,  68],\n",
       "         [ 65,  65,  65],\n",
       "         [ 66,  66,  66],\n",
       "         ...,\n",
       "         [ 69,  69,  69],\n",
       "         [ 68,  68,  68],\n",
       "         [ 64,  64,  64]],\n",
       "\n",
       "        [[ 68,  68,  68],\n",
       "         [ 63,  63,  63],\n",
       "         [ 64,  64,  64],\n",
       "         ...,\n",
       "         [ 68,  68,  68],\n",
       "         [ 67,  67,  67],\n",
       "         [ 64,  64,  64]],\n",
       "\n",
       "        [[ 68,  68,  68],\n",
       "         [ 64,  64,  64],\n",
       "         [ 61,  61,  61],\n",
       "         ...,\n",
       "         [ 68,  68,  68],\n",
       "         [ 64,  64,  64],\n",
       "         [ 60,  60,  60]]],\n",
       "\n",
       "\n",
       "       [[[111, 111, 111],\n",
       "         [114, 114, 114],\n",
       "         [108, 108, 108],\n",
       "         ...,\n",
       "         [ 38,  38,  38],\n",
       "         [ 30,  30,  30],\n",
       "         [ 28,  28,  28]],\n",
       "\n",
       "        [[110, 110, 110],\n",
       "         [110, 110, 110],\n",
       "         [106, 106, 106],\n",
       "         ...,\n",
       "         [ 36,  36,  36],\n",
       "         [ 31,  31,  31],\n",
       "         [ 28,  28,  28]],\n",
       "\n",
       "        [[105, 105, 105],\n",
       "         [103, 103, 103],\n",
       "         [104, 104, 104],\n",
       "         ...,\n",
       "         [ 38,  38,  38],\n",
       "         [ 29,  29,  29],\n",
       "         [ 28,  28,  28]],\n",
       "\n",
       "        ...,\n",
       "\n",
       "        [[ 60,  60,  60],\n",
       "         [ 60,  60,  60],\n",
       "         [ 65,  65,  65],\n",
       "         ...,\n",
       "         [ 49,  49,  49],\n",
       "         [ 39,  39,  39],\n",
       "         [ 28,  28,  28]],\n",
       "\n",
       "        [[ 60,  60,  60],\n",
       "         [ 60,  60,  60],\n",
       "         [ 63,  63,  63],\n",
       "         ...,\n",
       "         [ 49,  49,  49],\n",
       "         [ 39,  39,  39],\n",
       "         [ 28,  28,  28]],\n",
       "\n",
       "        [[ 59,  59,  59],\n",
       "         [ 58,  58,  58],\n",
       "         [ 62,  62,  62],\n",
       "         ...,\n",
       "         [ 49,  49,  49],\n",
       "         [ 40,  40,  40],\n",
       "         [ 28,  28,  28]]],\n",
       "\n",
       "\n",
       "       [[[ 63,  63,  63],\n",
       "         [ 67,  67,  67],\n",
       "         [ 69,  69,  69],\n",
       "         ...,\n",
       "         [122, 122, 122],\n",
       "         [121, 121, 121],\n",
       "         [129, 129, 129]],\n",
       "\n",
       "        [[ 60,  60,  60],\n",
       "         [ 62,  62,  62],\n",
       "         [ 62,  62,  62],\n",
       "         ...,\n",
       "         [116, 116, 116],\n",
       "         [119, 119, 119],\n",
       "         [123, 123, 123]],\n",
       "\n",
       "        [[ 57,  57,  57],\n",
       "         [ 55,  55,  55],\n",
       "         [ 62,  62,  62],\n",
       "         ...,\n",
       "         [113, 113, 113],\n",
       "         [113, 113, 113],\n",
       "         [118, 118, 118]],\n",
       "\n",
       "        ...,\n",
       "\n",
       "        [[ 80,  80,  80],\n",
       "         [ 89,  89,  89],\n",
       "         [ 90,  90,  90],\n",
       "         ...,\n",
       "         [ 98,  98,  98],\n",
       "         [ 96,  96,  96],\n",
       "         [ 95,  95,  95]],\n",
       "\n",
       "        [[ 80,  80,  80],\n",
       "         [ 85,  85,  85],\n",
       "         [ 91,  91,  91],\n",
       "         ...,\n",
       "         [ 99,  99,  99],\n",
       "         [ 98,  98,  98],\n",
       "         [ 98,  98,  98]],\n",
       "\n",
       "        [[ 79,  79,  79],\n",
       "         [ 86,  86,  86],\n",
       "         [ 88,  88,  88],\n",
       "         ...,\n",
       "         [100, 100, 100],\n",
       "         [ 97,  97,  97],\n",
       "         [ 98,  98,  98]]],\n",
       "\n",
       "\n",
       "       ...,\n",
       "\n",
       "\n",
       "       [[[ 38,  38,  38],\n",
       "         [ 47,  47,  47],\n",
       "         [ 50,  50,  50],\n",
       "         ...,\n",
       "         [ 87,  87,  87],\n",
       "         [ 87,  87,  87],\n",
       "         [ 86,  86,  86]],\n",
       "\n",
       "        [[ 44,  44,  44],\n",
       "         [ 49,  49,  49],\n",
       "         [ 53,  53,  53],\n",
       "         ...,\n",
       "         [ 88,  88,  88],\n",
       "         [ 86,  86,  86],\n",
       "         [ 88,  88,  88]],\n",
       "\n",
       "        [[ 42,  42,  42],\n",
       "         [ 49,  49,  49],\n",
       "         [ 50,  50,  50],\n",
       "         ...,\n",
       "         [ 91,  91,  91],\n",
       "         [ 91,  91,  91],\n",
       "         [ 91,  91,  91]],\n",
       "\n",
       "        ...,\n",
       "\n",
       "        [[ 58,  58,  58],\n",
       "         [ 64,  64,  64],\n",
       "         [ 70,  70,  70],\n",
       "         ...,\n",
       "         [ 72,  72,  72],\n",
       "         [ 72,  72,  72],\n",
       "         [ 75,  75,  75]],\n",
       "\n",
       "        [[ 59,  59,  59],\n",
       "         [ 61,  61,  61],\n",
       "         [ 66,  66,  66],\n",
       "         ...,\n",
       "         [ 72,  72,  72],\n",
       "         [ 74,  74,  74],\n",
       "         [ 74,  74,  74]],\n",
       "\n",
       "        [[ 58,  58,  58],\n",
       "         [ 63,  63,  63],\n",
       "         [ 67,  67,  67],\n",
       "         ...,\n",
       "         [ 70,  70,  70],\n",
       "         [ 70,  70,  70],\n",
       "         [ 74,  74,  74]]],\n",
       "\n",
       "\n",
       "       [[[ 93,  93,  93],\n",
       "         [ 91,  91,  91],\n",
       "         [ 91,  91,  91],\n",
       "         ...,\n",
       "         [ 53,  53,  53],\n",
       "         [ 51,  51,  51],\n",
       "         [ 48,  48,  48]],\n",
       "\n",
       "        [[ 95,  95,  95],\n",
       "         [ 98,  98,  98],\n",
       "         [ 94,  94,  94],\n",
       "         ...,\n",
       "         [ 51,  51,  51],\n",
       "         [ 49,  49,  49],\n",
       "         [ 50,  50,  50]],\n",
       "\n",
       "        [[ 97,  97,  97],\n",
       "         [ 98,  98,  98],\n",
       "         [ 90,  90,  90],\n",
       "         ...,\n",
       "         [ 48,  48,  48],\n",
       "         [ 46,  46,  46],\n",
       "         [ 43,  43,  43]],\n",
       "\n",
       "        ...,\n",
       "\n",
       "        [[ 66,  66,  66],\n",
       "         [ 69,  69,  69],\n",
       "         [ 67,  67,  67],\n",
       "         ...,\n",
       "         [ 67,  67,  67],\n",
       "         [ 64,  64,  64],\n",
       "         [ 60,  60,  60]],\n",
       "\n",
       "        [[ 64,  64,  64],\n",
       "         [ 66,  66,  66],\n",
       "         [ 68,  68,  68],\n",
       "         ...,\n",
       "         [ 68,  68,  68],\n",
       "         [ 64,  64,  64],\n",
       "         [ 60,  60,  60]],\n",
       "\n",
       "        [[ 63,  63,  63],\n",
       "         [ 60,  60,  60],\n",
       "         [ 64,  64,  64],\n",
       "         ...,\n",
       "         [ 68,  68,  68],\n",
       "         [ 65,  65,  65],\n",
       "         [ 60,  60,  60]]],\n",
       "\n",
       "\n",
       "       [[[ 46,  46,  46],\n",
       "         [ 49,  49,  49],\n",
       "         [ 50,  50,  50],\n",
       "         ...,\n",
       "         [ 91,  91,  91],\n",
       "         [ 91,  91,  91],\n",
       "         [ 91,  91,  91]],\n",
       "\n",
       "        [[ 47,  47,  47],\n",
       "         [ 48,  48,  48],\n",
       "         [ 48,  48,  48],\n",
       "         ...,\n",
       "         [ 95,  95,  95],\n",
       "         [100, 100, 100],\n",
       "         [ 94,  94,  94]],\n",
       "\n",
       "        [[ 43,  43,  43],\n",
       "         [ 41,  41,  41],\n",
       "         [ 45,  45,  45],\n",
       "         ...,\n",
       "         [ 96,  96,  96],\n",
       "         [ 98,  98,  98],\n",
       "         [ 97,  97,  97]],\n",
       "\n",
       "        ...,\n",
       "\n",
       "        [[ 65,  65,  65],\n",
       "         [ 69,  69,  69],\n",
       "         [ 73,  73,  73],\n",
       "         ...,\n",
       "         [ 71,  71,  71],\n",
       "         [ 72,  72,  72],\n",
       "         [ 76,  76,  76]],\n",
       "\n",
       "        [[ 65,  65,  65],\n",
       "         [ 70,  70,  70],\n",
       "         [ 72,  72,  72],\n",
       "         ...,\n",
       "         [ 69,  69,  69],\n",
       "         [ 72,  72,  72],\n",
       "         [ 75,  75,  75]],\n",
       "\n",
       "        [[ 65,  65,  65],\n",
       "         [ 69,  69,  69],\n",
       "         [ 74,  74,  74],\n",
       "         ...,\n",
       "         [ 69,  69,  69],\n",
       "         [ 72,  72,  72],\n",
       "         [ 76,  76,  76]]]], dtype=uint8)"
      ]
     },
     "execution_count": 14,
     "metadata": {},
     "output_type": "execute_result"
    }
   ],
   "source": [
    "x_test"
   ]
  },
  {
   "cell_type": "code",
   "execution_count": 15,
   "metadata": {},
   "outputs": [
    {
     "data": {
      "text/plain": [
       "array([1, 0, 1, ..., 1, 1, 1])"
      ]
     },
     "execution_count": 15,
     "metadata": {},
     "output_type": "execute_result"
    }
   ],
   "source": [
    "y_test"
   ]
  },
  {
   "cell_type": "code",
   "execution_count": 16,
   "metadata": {},
   "outputs": [],
   "source": [
    "x_train=x_train/255.0\n",
    "x_test=x_test/255.0"
   ]
  },
  {
   "cell_type": "code",
   "execution_count": 17,
   "metadata": {},
   "outputs": [],
   "source": [
    "import tensorflow as tf\n",
    "from tensorflow import keras\n",
    "from tensorflow.keras import models\n",
    "from tensorflow.keras import layers"
   ]
  },
  {
   "cell_type": "code",
   "execution_count": 18,
   "metadata": {},
   "outputs": [],
   "source": [
    "model = tf.keras.models.Sequential()"
   ]
  },
  {
   "cell_type": "code",
   "execution_count": 19,
   "metadata": {},
   "outputs": [
    {
     "data": {
      "text/plain": [
       "(1001, 28, 28, 3)"
      ]
     },
     "execution_count": 19,
     "metadata": {},
     "output_type": "execute_result"
    }
   ],
   "source": [
    "x_train.shape"
   ]
  },
  {
   "cell_type": "code",
   "execution_count": 20,
   "metadata": {},
   "outputs": [
    {
     "data": {
      "text/plain": [
       "(1002, 28, 28, 3)"
      ]
     },
     "execution_count": 20,
     "metadata": {},
     "output_type": "execute_result"
    }
   ],
   "source": [
    "x_test.shape"
   ]
  },
  {
   "cell_type": "code",
   "execution_count": 21,
   "metadata": {},
   "outputs": [
    {
     "data": {
      "text/plain": [
       "(1001,)"
      ]
     },
     "execution_count": 21,
     "metadata": {},
     "output_type": "execute_result"
    }
   ],
   "source": [
    "y_train.shape"
   ]
  },
  {
   "cell_type": "code",
   "execution_count": 22,
   "metadata": {},
   "outputs": [
    {
     "data": {
      "text/plain": [
       "(1002,)"
      ]
     },
     "execution_count": 22,
     "metadata": {},
     "output_type": "execute_result"
    }
   ],
   "source": [
    "y_test.shape"
   ]
  },
  {
   "cell_type": "code",
   "execution_count": 23,
   "metadata": {},
   "outputs": [],
   "source": [
    "final_label= y_train.reshape(-1,1)"
   ]
  },
  {
   "cell_type": "code",
   "execution_count": 24,
   "metadata": {},
   "outputs": [
    {
     "data": {
      "text/plain": [
       "(1001, 1)"
      ]
     },
     "execution_count": 24,
     "metadata": {},
     "output_type": "execute_result"
    }
   ],
   "source": [
    "final_label.shape"
   ]
  },
  {
   "cell_type": "code",
   "execution_count": 25,
   "metadata": {},
   "outputs": [],
   "source": [
    "model.add(keras.layers.Conv2D(64,kernel_size=3,activation='relu',input_shape=(28,28,3)))\n",
    "model.add(keras.layers.Conv2D(32,kernel_size=3,activation='relu'))\n",
    "model.add(keras.layers.Flatten())\n",
    "model.add(keras.layers.Dense(2,activation='softmax'))"
   ]
  },
  {
   "cell_type": "code",
   "execution_count": 26,
   "metadata": {},
   "outputs": [],
   "source": [
    "model.compile(optimizer='adam', loss='sparse_categorical_crossentropy', metrics=['accuracy'])"
   ]
  },
  {
   "cell_type": "code",
   "execution_count": 27,
   "metadata": {},
   "outputs": [
    {
     "name": "stdout",
     "output_type": "stream",
     "text": [
      "Epoch 1/10\n",
      "32/32 [==============================] - 4s 83ms/step - loss: 0.6708 - accuracy: 0.5764\n",
      "Epoch 2/10\n",
      "32/32 [==============================] - 3s 87ms/step - loss: 0.4134 - accuracy: 0.8250\n",
      "Epoch 3/10\n",
      "32/32 [==============================] - 3s 82ms/step - loss: 0.2458 - accuracy: 0.9229\n",
      "Epoch 4/10\n",
      "32/32 [==============================] - 3s 82ms/step - loss: 0.1992 - accuracy: 0.9266\n",
      "Epoch 5/10\n",
      "32/32 [==============================] - 3s 81ms/step - loss: 0.1228 - accuracy: 0.9491\n",
      "Epoch 6/10\n",
      "32/32 [==============================] - 3s 85ms/step - loss: 0.1085 - accuracy: 0.9561\n",
      "Epoch 7/10\n",
      "32/32 [==============================] - 3s 84ms/step - loss: 0.1050 - accuracy: 0.9483\n",
      "Epoch 8/10\n",
      "32/32 [==============================] - 3s 82ms/step - loss: 0.0899 - accuracy: 0.9618\n",
      "Epoch 9/10\n",
      "32/32 [==============================] - 3s 84ms/step - loss: 0.1106 - accuracy: 0.9475\n",
      "Epoch 10/10\n",
      "32/32 [==============================] - 3s 82ms/step - loss: 0.0765 - accuracy: 0.9649\n"
     ]
    },
    {
     "data": {
      "text/plain": [
       "<tensorflow.python.keras.callbacks.History at 0x2b160992eb0>"
      ]
     },
     "execution_count": 27,
     "metadata": {},
     "output_type": "execute_result"
    }
   ],
   "source": [
    "model.fit(x_train,final_label, epochs=10)"
   ]
  },
  {
   "cell_type": "code",
   "execution_count": 28,
   "metadata": {},
   "outputs": [
    {
     "name": "stdout",
     "output_type": "stream",
     "text": [
      "Model: \"sequential\"\n",
      "_________________________________________________________________\n",
      "Layer (type)                 Output Shape              Param #   \n",
      "=================================================================\n",
      "conv2d (Conv2D)              (None, 26, 26, 64)        1792      \n",
      "_________________________________________________________________\n",
      "conv2d_1 (Conv2D)            (None, 24, 24, 32)        18464     \n",
      "_________________________________________________________________\n",
      "flatten (Flatten)            (None, 18432)             0         \n",
      "_________________________________________________________________\n",
      "dense (Dense)                (None, 2)                 36866     \n",
      "=================================================================\n",
      "Total params: 57,122\n",
      "Trainable params: 57,122\n",
      "Non-trainable params: 0\n",
      "_________________________________________________________________\n"
     ]
    }
   ],
   "source": [
    "model.summary()"
   ]
  },
  {
   "cell_type": "code",
   "execution_count": 29,
   "metadata": {},
   "outputs": [
    {
     "data": {
      "text/plain": [
       "array([0.28674048, 0.7132595 ], dtype=float32)"
      ]
     },
     "execution_count": 29,
     "metadata": {},
     "output_type": "execute_result"
    }
   ],
   "source": [
    "p=model.predict(x_test)\n",
    "p[100]"
   ]
  },
  {
   "cell_type": "code",
   "execution_count": 30,
   "metadata": {},
   "outputs": [
    {
     "name": "stdout",
     "output_type": "stream",
     "text": [
      "(28, 28, 3)\n",
      "(28, 28, 3)\n",
      "(1, 28, 28, 3)\n"
     ]
    }
   ],
   "source": [
    "from tensorflow.keras.preprocessing.image import img_to_array\n",
    "img= cv2.imread(r\"C:\\Users\\HP\\Desktop\\pro\\test_set\\open_eyes\\s0001_01845_0_0_1_0_0_01.png\")\n",
    "img=cv2.resize(img,(28,28))\n",
    "print(img.shape)\n",
    "img=img_to_array(img)\n",
    "new_img=img/255.0\n",
    "print(new_img.shape)\n",
    "new_img = np.asarray(new_img).reshape(1, 28, 28, 3)\n",
    "print(new_img.shape)"
   ]
  },
  {
   "cell_type": "code",
   "execution_count": 31,
   "metadata": {},
   "outputs": [],
   "source": [
    "predict=model.predict(new_img)"
   ]
  },
  {
   "cell_type": "code",
   "execution_count": 32,
   "metadata": {},
   "outputs": [
    {
     "data": {
      "text/plain": [
       "array([[0.0636799, 0.9363201]], dtype=float32)"
      ]
     },
     "execution_count": 32,
     "metadata": {},
     "output_type": "execute_result"
    }
   ],
   "source": [
    "predict # 0.9973605 ,0.00263946"
   ]
  },
  {
   "cell_type": "code",
   "execution_count": 33,
   "metadata": {},
   "outputs": [
    {
     "data": {
      "text/plain": [
       "array([0.0636799, 0.9363201], dtype=float32)"
      ]
     },
     "execution_count": 33,
     "metadata": {},
     "output_type": "execute_result"
    }
   ],
   "source": [
    "predict[0]"
   ]
  },
  {
   "cell_type": "code",
   "execution_count": 34,
   "metadata": {},
   "outputs": [
    {
     "data": {
      "text/plain": [
       "array([1, 0, 1, ..., 1, 1, 1])"
      ]
     },
     "execution_count": 34,
     "metadata": {},
     "output_type": "execute_result"
    }
   ],
   "source": [
    "y_test"
   ]
  },
  {
   "cell_type": "code",
   "execution_count": 36,
   "metadata": {
    "scrolled": false
   },
   "outputs": [],
   "source": [
    "from pygame import mixer\n",
    "import time\n",
    "mixer.init()\n",
    "sound = mixer.Sound('alarm.wav')\n",
    "face = cv2.CascadeClassifier(r\"C:\\Users\\HP\\Desktop\\sheetal\\deep_learning\\opencv\\cascade\\haarcascade_frontalface_default.xml\")\n",
    "leye = cv2.CascadeClassifier(r\"C:\\Users\\HP\\Desktop\\sheetal\\deep_learning\\opencv\\cascade\\haarcascade_lefteye_2splits.xml\")\n",
    "reye = cv2.CascadeClassifier(r\"C:\\Users\\HP\\Desktop\\sheetal\\deep_learning\\opencv\\cascade\\haarcascade_righteye_2splits.xml\")\n",
    "lbl=['Close','Open']\n",
    "\n",
    "cap = cv2.VideoCapture(0)\n",
    "font = cv2.FONT_HERSHEY_COMPLEX_SMALL\n",
    "count=0\n",
    "score=0\n",
    "thicc=2\n",
    "rpred=[99]\n",
    "lpred=[99]\n",
    "while(True):\n",
    "    ret, frame = cap.read()\n",
    "    height,width = frame.shape[:2]\n",
    "    gray = cv2.cvtColor(frame, cv2.COLOR_BGR2GRAY)\n",
    "    faces = face.detectMultiScale(gray,minNeighbors=5,scaleFactor=1.1,minSize=(28,28))\n",
    "    left_eye = leye.detectMultiScale(gray)\n",
    "    right_eye = reye.detectMultiScale(gray)\n",
    "    cv2.rectangle(frame, (0,height-50) , (200,height) , (0,0,0) , thickness=cv2.FILLED )\n",
    "    for (x,y,w,h) in faces:\n",
    "        cv2.rectangle(frame, (x,y) , (x+w,y+h) , (100,100,100) , 1 )\n",
    "    for (x,y,w,h) in right_eye:\n",
    "        r_eye=frame[y:y+h,x:x+w]\n",
    "        count=count+1\n",
    "        #r_eye = cv2.cvtColor(r_eye,cv2.COLOR_BGR2GRAY)\n",
    "        r_eye = cv2.resize(r_eye,(28,28))\n",
    "        r_eye= r_eye/255.0\n",
    "        r_eye= r_eye.reshape(28,28,-1)  \n",
    "       \n",
    "        # final_image=np.expand_dims(final_image,axis=0)\n",
    "       # final_image=final_image/255.0\n",
    "        r_eye = np.expand_dims(r_eye,axis=0)\n",
    "        rpred = model.predict_classes(r_eye)\n",
    "        if(rpred[0]==1):\n",
    "            lbl='Open'\n",
    "        if(rpred[0]==0):\n",
    "            lbl='Closed'\n",
    "        break\n",
    "    for (x,y,w,h) in left_eye:\n",
    "        l_eye=frame[y:y+h,x:x+w]\n",
    "        count=count+1\n",
    "        #l_eye = cv2.cvtColor(l_eye,cv2.COLOR_BGR2GRAY)\n",
    "        l_eye = cv2.resize(l_eye,(28,28))\n",
    "        l_eye= l_eye/255.0\n",
    "        l_eye= l_eye.reshape(28,28,-1)\n",
    "        l_eye = np.expand_dims(l_eye,axis=0)\n",
    "        lpred = model.predict_classes(l_eye)\n",
    "        if(lpred[0]==1):\n",
    "            lbl='Open'\n",
    "        if(lpred[0]==0):\n",
    "            lbl='Closed'\n",
    "        break\n",
    "    if(rpred[0]==0 and lpred[0]==0):\n",
    "        score=score+1\n",
    "        cv2.putText(frame,\"Closed\",(10,height-20), font, 1,(255,255,255),1,cv2.LINE_AA)\n",
    "    # if(rpred[0]==1 or lpred[0]==1):\n",
    "    else:\n",
    "        score=score-1\n",
    "        cv2.putText(frame,\"Open\",(10,height-20), font, 1,(255,255,255),1,cv2.LINE_AA)\n",
    "    if(score<0):\n",
    "        score=0\n",
    "    cv2.putText(frame,'Score:'+str(score),(100,height-20), font, 1,(255,255,255),1,cv2.LINE_AA)\n",
    "    if(score>8):\n",
    "        #person is feeling sleepy so we beep the alarm\n",
    "        cv2.imwrite(os.path.join(path,'image.jpg'),frame)\n",
    "        try:\n",
    "            sound.play()\n",
    "        except: # isplaying = False\n",
    "            pass\n",
    "        if(thicc<16):\n",
    "            thicc= thicc+2\n",
    "        else:\n",
    "            thicc=thicc-2\n",
    "            if(thicc<2):\n",
    "                thicc=2\n",
    "        cv2.rectangle(frame,(0,0),(width,height),(0,0,255),thicc)\n",
    "    cv2.imshow('frame',frame)\n",
    "    if cv2.waitKey(1) & 0xFF == ord('q'):\n",
    "        break\n",
    "cap.release()\n",
    "cv2.destroyAllWindows()"
   ]
  },
  {
   "cell_type": "code",
   "execution_count": null,
   "metadata": {},
   "outputs": [],
   "source": []
  },
  {
   "cell_type": "code",
   "execution_count": null,
   "metadata": {},
   "outputs": [],
   "source": []
  },
  {
   "cell_type": "code",
   "execution_count": null,
   "metadata": {},
   "outputs": [],
   "source": []
  },
  {
   "cell_type": "code",
   "execution_count": null,
   "metadata": {},
   "outputs": [],
   "source": []
  },
  {
   "cell_type": "code",
   "execution_count": null,
   "metadata": {},
   "outputs": [],
   "source": []
  },
  {
   "cell_type": "code",
   "execution_count": null,
   "metadata": {},
   "outputs": [],
   "source": []
  },
  {
   "cell_type": "code",
   "execution_count": null,
   "metadata": {},
   "outputs": [],
   "source": []
  },
  {
   "cell_type": "code",
   "execution_count": null,
   "metadata": {},
   "outputs": [],
   "source": []
  },
  {
   "cell_type": "code",
   "execution_count": null,
   "metadata": {},
   "outputs": [],
   "source": []
  },
  {
   "cell_type": "code",
   "execution_count": null,
   "metadata": {},
   "outputs": [],
   "source": []
  },
  {
   "cell_type": "code",
   "execution_count": null,
   "metadata": {},
   "outputs": [],
   "source": []
  },
  {
   "cell_type": "code",
   "execution_count": null,
   "metadata": {},
   "outputs": [],
   "source": []
  },
  {
   "cell_type": "code",
   "execution_count": null,
   "metadata": {},
   "outputs": [],
   "source": []
  },
  {
   "cell_type": "code",
   "execution_count": null,
   "metadata": {},
   "outputs": [],
   "source": []
  },
  {
   "cell_type": "code",
   "execution_count": null,
   "metadata": {},
   "outputs": [],
   "source": []
  },
  {
   "cell_type": "code",
   "execution_count": null,
   "metadata": {},
   "outputs": [],
   "source": []
  },
  {
   "cell_type": "code",
   "execution_count": null,
   "metadata": {},
   "outputs": [],
   "source": []
  },
  {
   "cell_type": "code",
   "execution_count": null,
   "metadata": {},
   "outputs": [],
   "source": []
  }
 ],
 "metadata": {
  "kernelspec": {
   "display_name": "Python 3",
   "language": "python",
   "name": "python3"
  },
  "language_info": {
   "codemirror_mode": {
    "name": "ipython",
    "version": 3
   },
   "file_extension": ".py",
   "mimetype": "text/x-python",
   "name": "python",
   "nbconvert_exporter": "python",
   "pygments_lexer": "ipython3",
   "version": "3.8.5"
  }
 },
 "nbformat": 4,
 "nbformat_minor": 2
}
